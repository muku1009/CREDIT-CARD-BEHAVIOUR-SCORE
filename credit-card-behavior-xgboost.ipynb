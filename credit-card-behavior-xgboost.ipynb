{
 "cells": [
  {
   "cell_type": "code",
   "execution_count": 1,
   "id": "763dfbc8",
   "metadata": {
    "_cell_guid": "b1076dfc-b9ad-4769-8c92-a6c4dae69d19",
    "_uuid": "8f2839f25d086af736a60e9eeb907d3b93b6e0e5",
    "execution": {
     "iopub.execute_input": "2025-01-22T16:58:02.086902Z",
     "iopub.status.busy": "2025-01-22T16:58:02.086522Z",
     "iopub.status.idle": "2025-01-22T16:58:26.223244Z",
     "shell.execute_reply": "2025-01-22T16:58:26.221908Z"
    },
    "papermill": {
     "duration": 24.145668,
     "end_time": "2025-01-22T16:58:26.225700",
     "exception": false,
     "start_time": "2025-01-22T16:58:02.080032",
     "status": "completed"
    },
    "tags": []
   },
   "outputs": [],
   "source": [
    "# This Python 3 environment comes with many helpful analytics libraries installed\n",
    "# It is defined by the kaggle/python Docker image: https://github.com/kaggle/docker-python\n",
    "# For example, here's several helpful packages to load\n",
    "\n",
    "import numpy as np # linear algebra\n",
    "import pandas as pd # data processing, CSV file I/O (e.g. pd.read_csv)\n",
    "\n",
    "# Input data files are available in the read-only \"../input/\" directory\n",
    "# For example, running this (by clicking run or pressing Shift+Enter) will list all files under the input directory\n",
    "\n",
    "import os\n",
    "df = pd.read_csv('/kaggle/input/credit-card-behaviour-score/Dev_data_to_be_shared.csv')\n",
    "val = pd.read_csv('/kaggle/input/credit-card-behaviour-score/validation_data_to_be_shared.csv')\n",
    "# You can write up to 20GB to the current directory (/kaggle/working/) that gets preserved as output when you create a version using \"Save & Run All\" \n",
    "# You can also write temporary files to /kaggle/temp/, but they won't be saved outside of the current session"
   ]
  },
  {
   "cell_type": "code",
   "execution_count": 2,
   "id": "85a49796",
   "metadata": {
    "execution": {
     "iopub.execute_input": "2025-01-22T16:58:26.236805Z",
     "iopub.status.busy": "2025-01-22T16:58:26.236420Z",
     "iopub.status.idle": "2025-01-22T16:58:26.243199Z",
     "shell.execute_reply": "2025-01-22T16:58:26.242019Z"
    },
    "papermill": {
     "duration": 0.014312,
     "end_time": "2025-01-22T16:58:26.245105",
     "exception": false,
     "start_time": "2025-01-22T16:58:26.230793",
     "status": "completed"
    },
    "tags": []
   },
   "outputs": [
    {
     "data": {
      "text/plain": [
       "(96806, 1216)"
      ]
     },
     "execution_count": 2,
     "metadata": {},
     "output_type": "execute_result"
    }
   ],
   "source": [
    "df.shape"
   ]
  },
  {
   "cell_type": "code",
   "execution_count": 3,
   "id": "9300e761",
   "metadata": {
    "execution": {
     "iopub.execute_input": "2025-01-22T16:58:26.255880Z",
     "iopub.status.busy": "2025-01-22T16:58:26.255500Z",
     "iopub.status.idle": "2025-01-22T16:58:26.688882Z",
     "shell.execute_reply": "2025-01-22T16:58:26.687624Z"
    },
    "papermill": {
     "duration": 0.441007,
     "end_time": "2025-01-22T16:58:26.690880",
     "exception": false,
     "start_time": "2025-01-22T16:58:26.249873",
     "status": "completed"
    },
    "tags": []
   },
   "outputs": [],
   "source": [
    "## Dropping the account number column\n",
    "df.drop(columns=['account_number'],inplace=True)\n",
    "val.drop(columns=['account_number'],inplace=True)"
   ]
  },
  {
   "cell_type": "code",
   "execution_count": 4,
   "id": "e701ae95",
   "metadata": {
    "execution": {
     "iopub.execute_input": "2025-01-22T16:58:26.703043Z",
     "iopub.status.busy": "2025-01-22T16:58:26.702673Z",
     "iopub.status.idle": "2025-01-22T16:58:26.709136Z",
     "shell.execute_reply": "2025-01-22T16:58:26.708229Z"
    },
    "papermill": {
     "duration": 0.014197,
     "end_time": "2025-01-22T16:58:26.711203",
     "exception": false,
     "start_time": "2025-01-22T16:58:26.697006",
     "status": "completed"
    },
    "tags": []
   },
   "outputs": [
    {
     "data": {
      "text/plain": [
       "array([dtype('int64'), dtype('float64')], dtype=object)"
      ]
     },
     "execution_count": 4,
     "metadata": {},
     "output_type": "execute_result"
    }
   ],
   "source": [
    "df.dtypes.unique()"
   ]
  },
  {
   "cell_type": "code",
   "execution_count": 5,
   "id": "0b22c4a8",
   "metadata": {
    "execution": {
     "iopub.execute_input": "2025-01-22T16:58:26.730657Z",
     "iopub.status.busy": "2025-01-22T16:58:26.730275Z",
     "iopub.status.idle": "2025-01-22T16:58:27.322613Z",
     "shell.execute_reply": "2025-01-22T16:58:27.321294Z"
    },
    "papermill": {
     "duration": 0.603466,
     "end_time": "2025-01-22T16:58:27.324604",
     "exception": false,
     "start_time": "2025-01-22T16:58:26.721138",
     "status": "completed"
    },
    "tags": []
   },
   "outputs": [
    {
     "data": {
      "text/plain": [
       "bad_flag                       0\n",
       "onus_attribute_1           25231\n",
       "transaction_attribute_1    25231\n",
       "transaction_attribute_2    25231\n",
       "transaction_attribute_3    25231\n",
       "                           ...  \n",
       "onus_attribute_44          85196\n",
       "onus_attribute_45          85196\n",
       "onus_attribute_46          85196\n",
       "onus_attribute_47          85196\n",
       "onus_attribute_48          85196\n",
       "Length: 1215, dtype: int64"
      ]
     },
     "execution_count": 5,
     "metadata": {},
     "output_type": "execute_result"
    }
   ],
   "source": [
    "df.isnull().sum()"
   ]
  },
  {
   "cell_type": "code",
   "execution_count": 6,
   "id": "81a7ae3f",
   "metadata": {
    "execution": {
     "iopub.execute_input": "2025-01-22T16:58:27.336327Z",
     "iopub.status.busy": "2025-01-22T16:58:27.335924Z",
     "iopub.status.idle": "2025-01-22T16:58:28.097373Z",
     "shell.execute_reply": "2025-01-22T16:58:28.096447Z"
    },
    "papermill": {
     "duration": 0.769566,
     "end_time": "2025-01-22T16:58:28.099281",
     "exception": false,
     "start_time": "2025-01-22T16:58:27.329715",
     "status": "completed"
    },
    "tags": []
   },
   "outputs": [],
   "source": [
    "## Removing columns which has more than 20K null values\n",
    "missing_values_count = df.isnull().sum()\n",
    "columns_to_drop = missing_values_count[missing_values_count>20000].index\n",
    "df = df.drop(columns=columns_to_drop)\n",
    "val = val.drop(columns=columns_to_drop)"
   ]
  },
  {
   "cell_type": "code",
   "execution_count": 7,
   "id": "58a5b461",
   "metadata": {
    "execution": {
     "iopub.execute_input": "2025-01-22T16:58:28.110656Z",
     "iopub.status.busy": "2025-01-22T16:58:28.110232Z",
     "iopub.status.idle": "2025-01-22T16:58:28.116384Z",
     "shell.execute_reply": "2025-01-22T16:58:28.115304Z"
    },
    "papermill": {
     "duration": 0.01364,
     "end_time": "2025-01-22T16:58:28.118006",
     "exception": false,
     "start_time": "2025-01-22T16:58:28.104366",
     "status": "completed"
    },
    "tags": []
   },
   "outputs": [
    {
     "data": {
      "text/plain": [
       "(96806, 520)"
      ]
     },
     "execution_count": 7,
     "metadata": {},
     "output_type": "execute_result"
    }
   ],
   "source": [
    "df.shape"
   ]
  },
  {
   "cell_type": "code",
   "execution_count": 8,
   "id": "04049db5",
   "metadata": {
    "execution": {
     "iopub.execute_input": "2025-01-22T16:58:28.129256Z",
     "iopub.status.busy": "2025-01-22T16:58:28.128865Z",
     "iopub.status.idle": "2025-01-22T16:58:28.144400Z",
     "shell.execute_reply": "2025-01-22T16:58:28.143358Z"
    },
    "papermill": {
     "duration": 0.022986,
     "end_time": "2025-01-22T16:58:28.146039",
     "exception": false,
     "start_time": "2025-01-22T16:58:28.123053",
     "status": "completed"
    },
    "tags": []
   },
   "outputs": [
    {
     "data": {
      "text/plain": [
       "bad_flag\n",
       "0    95434\n",
       "1     1372\n",
       "Name: count, dtype: int64"
      ]
     },
     "execution_count": 8,
     "metadata": {},
     "output_type": "execute_result"
    }
   ],
   "source": [
    "## Distribution of class labels\n",
    "df['bad_flag'].value_counts()"
   ]
  },
  {
   "cell_type": "code",
   "execution_count": 9,
   "id": "70a66ace",
   "metadata": {
    "execution": {
     "iopub.execute_input": "2025-01-22T16:58:28.157103Z",
     "iopub.status.busy": "2025-01-22T16:58:28.156787Z",
     "iopub.status.idle": "2025-01-22T16:59:38.887576Z",
     "shell.execute_reply": "2025-01-22T16:59:38.886511Z"
    },
    "papermill": {
     "duration": 70.738545,
     "end_time": "2025-01-22T16:59:38.889623",
     "exception": false,
     "start_time": "2025-01-22T16:58:28.151078",
     "status": "completed"
    },
    "tags": []
   },
   "outputs": [],
   "source": [
    "correlation = df.corr()"
   ]
  },
  {
   "cell_type": "code",
   "execution_count": 10,
   "id": "deec1cfd",
   "metadata": {
    "execution": {
     "iopub.execute_input": "2025-01-22T16:59:38.901306Z",
     "iopub.status.busy": "2025-01-22T16:59:38.900915Z",
     "iopub.status.idle": "2025-01-22T16:59:38.922055Z",
     "shell.execute_reply": "2025-01-22T16:59:38.920874Z"
    },
    "papermill": {
     "duration": 0.029288,
     "end_time": "2025-01-22T16:59:38.924291",
     "exception": false,
     "start_time": "2025-01-22T16:59:38.895003",
     "status": "completed"
    },
    "tags": []
   },
   "outputs": [],
   "source": [
    "# Considering only top 30 features that correlates with target ('bad_flag')\n",
    "target_correlation = correlation['bad_flag'].abs()\n",
    "top_50_features = target_correlation.sort_values(ascending=False).head(51).index\n",
    "df_filtered = df[top_50_features]\n",
    "\n",
    "val_filtered = val[top_50_features[1:]]"
   ]
  },
  {
   "cell_type": "code",
   "execution_count": 11,
   "id": "f211df66",
   "metadata": {
    "execution": {
     "iopub.execute_input": "2025-01-22T16:59:38.937059Z",
     "iopub.status.busy": "2025-01-22T16:59:38.936716Z",
     "iopub.status.idle": "2025-01-22T16:59:38.964037Z",
     "shell.execute_reply": "2025-01-22T16:59:38.962821Z"
    },
    "papermill": {
     "duration": 0.035815,
     "end_time": "2025-01-22T16:59:38.966022",
     "exception": false,
     "start_time": "2025-01-22T16:59:38.930207",
     "status": "completed"
    },
    "tags": []
   },
   "outputs": [
    {
     "data": {
      "text/html": [
       "<div>\n",
       "<style scoped>\n",
       "    .dataframe tbody tr th:only-of-type {\n",
       "        vertical-align: middle;\n",
       "    }\n",
       "\n",
       "    .dataframe tbody tr th {\n",
       "        vertical-align: top;\n",
       "    }\n",
       "\n",
       "    .dataframe thead th {\n",
       "        text-align: right;\n",
       "    }\n",
       "</style>\n",
       "<table border=\"1\" class=\"dataframe\">\n",
       "  <thead>\n",
       "    <tr style=\"text-align: right;\">\n",
       "      <th></th>\n",
       "      <th>bad_flag</th>\n",
       "      <th>onus_attribute_2</th>\n",
       "      <th>onus_attribute_17</th>\n",
       "      <th>onus_attribute_23</th>\n",
       "      <th>onus_attribute_20</th>\n",
       "      <th>onus_attribute_26</th>\n",
       "      <th>onus_attribute_32</th>\n",
       "      <th>onus_attribute_29</th>\n",
       "      <th>onus_attribute_33</th>\n",
       "      <th>onus_attribute_35</th>\n",
       "      <th>...</th>\n",
       "      <th>onus_attribute_24</th>\n",
       "      <th>onus_attribute_21</th>\n",
       "      <th>bureau_116</th>\n",
       "      <th>bureau_98</th>\n",
       "      <th>bureau_95</th>\n",
       "      <th>bureau_22</th>\n",
       "      <th>bureau_96</th>\n",
       "      <th>onus_attribute_36</th>\n",
       "      <th>onus_attribute_42</th>\n",
       "      <th>bureau_88</th>\n",
       "    </tr>\n",
       "  </thead>\n",
       "  <tbody>\n",
       "    <tr>\n",
       "      <th>0</th>\n",
       "      <td>0</td>\n",
       "      <td>0.000000</td>\n",
       "      <td>0.000000</td>\n",
       "      <td>0.052730</td>\n",
       "      <td>0.052730</td>\n",
       "      <td>0</td>\n",
       "      <td>0</td>\n",
       "      <td>0</td>\n",
       "      <td>0</td>\n",
       "      <td>0</td>\n",
       "      <td>...</td>\n",
       "      <td>0</td>\n",
       "      <td>0</td>\n",
       "      <td>0.0</td>\n",
       "      <td>0.0</td>\n",
       "      <td>0.0</td>\n",
       "      <td>7.0</td>\n",
       "      <td>0.0</td>\n",
       "      <td>0</td>\n",
       "      <td>0</td>\n",
       "      <td>0.0</td>\n",
       "    </tr>\n",
       "    <tr>\n",
       "      <th>1</th>\n",
       "      <td>0</td>\n",
       "      <td>0.493875</td>\n",
       "      <td>0.353684</td>\n",
       "      <td>0.411915</td>\n",
       "      <td>0.411915</td>\n",
       "      <td>1</td>\n",
       "      <td>3</td>\n",
       "      <td>0</td>\n",
       "      <td>1</td>\n",
       "      <td>0</td>\n",
       "      <td>...</td>\n",
       "      <td>0</td>\n",
       "      <td>0</td>\n",
       "      <td>7.0</td>\n",
       "      <td>0.0</td>\n",
       "      <td>1.0</td>\n",
       "      <td>8.0</td>\n",
       "      <td>3.0</td>\n",
       "      <td>0</td>\n",
       "      <td>0</td>\n",
       "      <td>0.0</td>\n",
       "    </tr>\n",
       "    <tr>\n",
       "      <th>2</th>\n",
       "      <td>0</td>\n",
       "      <td>0.430024</td>\n",
       "      <td>0.362633</td>\n",
       "      <td>0.346129</td>\n",
       "      <td>0.346129</td>\n",
       "      <td>0</td>\n",
       "      <td>0</td>\n",
       "      <td>0</td>\n",
       "      <td>0</td>\n",
       "      <td>0</td>\n",
       "      <td>...</td>\n",
       "      <td>0</td>\n",
       "      <td>0</td>\n",
       "      <td>4.0</td>\n",
       "      <td>2.0</td>\n",
       "      <td>3.0</td>\n",
       "      <td>4.0</td>\n",
       "      <td>3.0</td>\n",
       "      <td>0</td>\n",
       "      <td>0</td>\n",
       "      <td>1.0</td>\n",
       "    </tr>\n",
       "    <tr>\n",
       "      <th>3</th>\n",
       "      <td>0</td>\n",
       "      <td>0.014543</td>\n",
       "      <td>0.064999</td>\n",
       "      <td>0.044924</td>\n",
       "      <td>0.044924</td>\n",
       "      <td>0</td>\n",
       "      <td>0</td>\n",
       "      <td>0</td>\n",
       "      <td>0</td>\n",
       "      <td>0</td>\n",
       "      <td>...</td>\n",
       "      <td>0</td>\n",
       "      <td>0</td>\n",
       "      <td>14.0</td>\n",
       "      <td>0.0</td>\n",
       "      <td>2.0</td>\n",
       "      <td>4.0</td>\n",
       "      <td>2.0</td>\n",
       "      <td>0</td>\n",
       "      <td>0</td>\n",
       "      <td>0.0</td>\n",
       "    </tr>\n",
       "    <tr>\n",
       "      <th>4</th>\n",
       "      <td>0</td>\n",
       "      <td>0.002247</td>\n",
       "      <td>0.000749</td>\n",
       "      <td>0.019984</td>\n",
       "      <td>0.019984</td>\n",
       "      <td>0</td>\n",
       "      <td>0</td>\n",
       "      <td>0</td>\n",
       "      <td>0</td>\n",
       "      <td>0</td>\n",
       "      <td>...</td>\n",
       "      <td>0</td>\n",
       "      <td>0</td>\n",
       "      <td>3.0</td>\n",
       "      <td>0.0</td>\n",
       "      <td>2.0</td>\n",
       "      <td>3.0</td>\n",
       "      <td>2.0</td>\n",
       "      <td>0</td>\n",
       "      <td>0</td>\n",
       "      <td>0.0</td>\n",
       "    </tr>\n",
       "  </tbody>\n",
       "</table>\n",
       "<p>5 rows × 51 columns</p>\n",
       "</div>"
      ],
      "text/plain": [
       "   bad_flag  onus_attribute_2  onus_attribute_17  onus_attribute_23  \\\n",
       "0         0          0.000000           0.000000           0.052730   \n",
       "1         0          0.493875           0.353684           0.411915   \n",
       "2         0          0.430024           0.362633           0.346129   \n",
       "3         0          0.014543           0.064999           0.044924   \n",
       "4         0          0.002247           0.000749           0.019984   \n",
       "\n",
       "   onus_attribute_20  onus_attribute_26  onus_attribute_32  onus_attribute_29  \\\n",
       "0           0.052730                  0                  0                  0   \n",
       "1           0.411915                  1                  3                  0   \n",
       "2           0.346129                  0                  0                  0   \n",
       "3           0.044924                  0                  0                  0   \n",
       "4           0.019984                  0                  0                  0   \n",
       "\n",
       "   onus_attribute_33  onus_attribute_35  ...  onus_attribute_24  \\\n",
       "0                  0                  0  ...                  0   \n",
       "1                  1                  0  ...                  0   \n",
       "2                  0                  0  ...                  0   \n",
       "3                  0                  0  ...                  0   \n",
       "4                  0                  0  ...                  0   \n",
       "\n",
       "   onus_attribute_21  bureau_116  bureau_98  bureau_95  bureau_22  bureau_96  \\\n",
       "0                  0         0.0        0.0        0.0        7.0        0.0   \n",
       "1                  0         7.0        0.0        1.0        8.0        3.0   \n",
       "2                  0         4.0        2.0        3.0        4.0        3.0   \n",
       "3                  0        14.0        0.0        2.0        4.0        2.0   \n",
       "4                  0         3.0        0.0        2.0        3.0        2.0   \n",
       "\n",
       "   onus_attribute_36  onus_attribute_42  bureau_88  \n",
       "0                  0                  0        0.0  \n",
       "1                  0                  0        0.0  \n",
       "2                  0                  0        1.0  \n",
       "3                  0                  0        0.0  \n",
       "4                  0                  0        0.0  \n",
       "\n",
       "[5 rows x 51 columns]"
      ]
     },
     "execution_count": 11,
     "metadata": {},
     "output_type": "execute_result"
    }
   ],
   "source": [
    "df_filtered.head()"
   ]
  },
  {
   "cell_type": "code",
   "execution_count": 12,
   "id": "a5729d07",
   "metadata": {
    "execution": {
     "iopub.execute_input": "2025-01-22T16:59:38.978354Z",
     "iopub.status.busy": "2025-01-22T16:59:38.977948Z",
     "iopub.status.idle": "2025-01-22T16:59:41.309247Z",
     "shell.execute_reply": "2025-01-22T16:59:41.308089Z"
    },
    "papermill": {
     "duration": 2.339892,
     "end_time": "2025-01-22T16:59:41.311350",
     "exception": false,
     "start_time": "2025-01-22T16:59:38.971458",
     "status": "completed"
    },
    "tags": []
   },
   "outputs": [],
   "source": [
    "from sklearn.model_selection import train_test_split\n",
    "from sklearn.impute import SimpleImputer\n",
    "from sklearn.preprocessing import StandardScaler\n",
    "from sklearn.svm import SVC\n",
    "from sklearn.metrics import accuracy_score, precision_score, recall_score\n",
    "\n",
    "X = df_filtered.drop(columns=['bad_flag'])\n",
    "y = df_filtered['bad_flag']\n",
    "\n",
    "X_train, X_test, y_train, y_test = train_test_split(X, y, test_size=0.2, stratify=y, random_state=42)\n"
   ]
  },
  {
   "cell_type": "code",
   "execution_count": 13,
   "id": "74bd06b0",
   "metadata": {
    "execution": {
     "iopub.execute_input": "2025-01-22T16:59:41.324059Z",
     "iopub.status.busy": "2025-01-22T16:59:41.323449Z",
     "iopub.status.idle": "2025-01-22T16:59:41.948311Z",
     "shell.execute_reply": "2025-01-22T16:59:41.947203Z"
    },
    "papermill": {
     "duration": 0.633364,
     "end_time": "2025-01-22T16:59:41.950442",
     "exception": false,
     "start_time": "2025-01-22T16:59:41.317078",
     "status": "completed"
    },
    "tags": []
   },
   "outputs": [],
   "source": [
    "## Replacing null values with column median\n",
    "imputer = SimpleImputer(strategy='median')\n",
    "X_train_imputed = imputer.fit_transform(X_train)\n",
    "X_test_imputed = imputer.transform(X_test)\n",
    "val_imputed = imputer.transform(val_filtered)"
   ]
  },
  {
   "cell_type": "code",
   "execution_count": 14,
   "id": "09ebfe1f",
   "metadata": {
    "execution": {
     "iopub.execute_input": "2025-01-22T16:59:41.962596Z",
     "iopub.status.busy": "2025-01-22T16:59:41.962236Z",
     "iopub.status.idle": "2025-01-22T16:59:42.070951Z",
     "shell.execute_reply": "2025-01-22T16:59:42.069630Z"
    },
    "papermill": {
     "duration": 0.117258,
     "end_time": "2025-01-22T16:59:42.073127",
     "exception": false,
     "start_time": "2025-01-22T16:59:41.955869",
     "status": "completed"
    },
    "tags": []
   },
   "outputs": [],
   "source": [
    "scaler = StandardScaler()\n",
    "X_train_scaled = scaler.fit_transform(X_train_imputed)\n",
    "X_test_scaled = scaler.transform(X_test_imputed)\n",
    "val_scaled = scaler.transform(val_imputed)"
   ]
  },
  {
   "cell_type": "markdown",
   "id": "748b5073",
   "metadata": {
    "papermill": {
     "duration": 0.006801,
     "end_time": "2025-01-22T16:59:42.086897",
     "exception": false,
     "start_time": "2025-01-22T16:59:42.080096",
     "status": "completed"
    },
    "tags": []
   },
   "source": [
    "## XGBoost"
   ]
  },
  {
   "cell_type": "code",
   "execution_count": 15,
   "id": "7a4d16ea",
   "metadata": {
    "execution": {
     "iopub.execute_input": "2025-01-22T16:59:42.099747Z",
     "iopub.status.busy": "2025-01-22T16:59:42.099383Z",
     "iopub.status.idle": "2025-01-22T16:59:43.870906Z",
     "shell.execute_reply": "2025-01-22T16:59:43.869459Z"
    },
    "papermill": {
     "duration": 1.780369,
     "end_time": "2025-01-22T16:59:43.872841",
     "exception": false,
     "start_time": "2025-01-22T16:59:42.092472",
     "status": "completed"
    },
    "tags": []
   },
   "outputs": [
    {
     "name": "stdout",
     "output_type": "stream",
     "text": [
      "Accuracy: 0.9669455634748476\n",
      "Precision: 0.051470588235294115\n",
      "Recall: 0.07664233576642336\n"
     ]
    },
    {
     "data": {
      "image/png": "[encoded data removed]",
      "text/plain": [
       "<Figure size 800x600 with 1 Axes>"
      ]
     },
     "metadata": {},
     "output_type": "display_data"
    }
   ],
   "source": [
    "import xgboost as xgb\n",
    "from sklearn.metrics import roc_curve, auc\n",
    "import matplotlib.pyplot as plt\n",
    "\n",
    "clf = xgb.XGBClassifier(scale_pos_weight=96.6/3.4)\n",
    "clf.fit(X_train_scaled, y_train)\n",
    "y_pred = clf.predict(X_test_scaled)\n",
    "print('Accuracy:', accuracy_score(y_test, y_pred))\n",
    "print('Precision:', precision_score(y_test, y_pred))\n",
    "print('Recall:', recall_score(y_test, y_pred))\n",
    "\n",
    "\n",
    "#\n",
    "y_probs = clf.predict_proba(X_test)[:, 1]  # Get probabilities for the positive class (class 1)\n",
    "\n",
    "# ROC curve and AUC\n",
    "fpr, tpr, thresholds = roc_curve(y_test, y_probs)\n",
    "roc_auc = auc(fpr, tpr)\n",
    "\n",
    "\n",
    "plt.figure(figsize=(8, 6))\n",
    "plt.plot(fpr, tpr, color='b', label=f'ROC curve (AUC = {roc_auc:.2f})')\n",
    "plt.plot([0, 1], [0, 1], color='gray', linestyle='--')  # Diagonal line (random classifier)\n",
    "plt.xlabel('False Positive Rate')\n",
    "plt.ylabel('True Positive Rate')\n",
    "plt.title('Receiver Operating Characteristic (ROC) Curve')\n",
    "plt.legend(loc='lower right')\n",
    "plt.grid(True)\n",
    "plt.show()"
   ]
  },
  {
   "cell_type": "markdown",
   "id": "b0777913",
   "metadata": {
    "papermill": {
     "duration": 0.006049,
     "end_time": "2025-01-22T16:59:43.885444",
     "exception": false,
     "start_time": "2025-01-22T16:59:43.879395",
     "status": "completed"
    },
    "tags": []
   },
   "source": [
    "## Validation Data"
   ]
  },
  {
   "cell_type": "code",
   "execution_count": 16,
   "id": "cafb5b70",
   "metadata": {
    "execution": {
     "iopub.execute_input": "2025-01-22T16:59:43.900985Z",
     "iopub.status.busy": "2025-01-22T16:59:43.900542Z",
     "iopub.status.idle": "2025-01-22T16:59:43.955900Z",
     "shell.execute_reply": "2025-01-22T16:59:43.954937Z"
    },
    "papermill": {
     "duration": 0.066096,
     "end_time": "2025-01-22T16:59:43.958104",
     "exception": false,
     "start_time": "2025-01-22T16:59:43.892008",
     "status": "completed"
    },
    "tags": []
   },
   "outputs": [],
   "source": [
    "\n",
    "y_pred = clf.predict(val_scaled)"
   ]
  },
  {
   "cell_type": "code",
   "execution_count": 17,
   "id": "e851d7de",
   "metadata": {
    "execution": {
     "iopub.execute_input": "2025-01-22T16:59:43.974980Z",
     "iopub.status.busy": "2025-01-22T16:59:43.974616Z",
     "iopub.status.idle": "2025-01-22T16:59:43.981004Z",
     "shell.execute_reply": "2025-01-22T16:59:43.979845Z"
    },
    "papermill": {
     "duration": 0.016691,
     "end_time": "2025-01-22T16:59:43.982768",
     "exception": false,
     "start_time": "2025-01-22T16:59:43.966077",
     "status": "completed"
    },
    "tags": []
   },
   "outputs": [
    {
     "data": {
      "text/plain": [
       "array([0, 0, 0, ..., 0, 0, 0])"
      ]
     },
     "execution_count": 17,
     "metadata": {},
     "output_type": "execute_result"
    }
   ],
   "source": [
    "y_pred"
   ]
  },
  {
   "cell_type": "code",
   "execution_count": 18,
   "id": "689cc257",
   "metadata": {
    "execution": {
     "iopub.execute_input": "2025-01-22T16:59:43.997814Z",
     "iopub.status.busy": "2025-01-22T16:59:43.997476Z",
     "iopub.status.idle": "2025-01-22T16:59:44.055670Z",
     "shell.execute_reply": "2025-01-22T16:59:44.053869Z"
    },
    "papermill": {
     "duration": 0.068036,
     "end_time": "2025-01-22T16:59:44.057562",
     "exception": false,
     "start_time": "2025-01-22T16:59:43.989526",
     "status": "completed"
    },
    "tags": []
   },
   "outputs": [
    {
     "data": {
      "text/plain": [
       "array([[0.7838525 , 0.21614747],\n",
       "       [0.9979797 , 0.00202032],\n",
       "       [0.9927109 , 0.0072891 ],\n",
       "       ...,\n",
       "       [0.8126414 , 0.1873586 ],\n",
       "       [0.9664048 , 0.0335952 ],\n",
       "       [0.7196213 , 0.2803787 ]], dtype=float32)"
      ]
     },
     "execution_count": 18,
     "metadata": {},
     "output_type": "execute_result"
    }
   ],
   "source": [
    "y_proba = clf.predict_proba(val_scaled)\n",
    "y_proba"
   ]
  },
  {
   "cell_type": "code",
   "execution_count": null,
   "id": "59129f62",
   "metadata": {
    "papermill": {
     "duration": 0.007004,
     "end_time": "2025-01-22T16:59:44.072840",
     "exception": false,
     "start_time": "2025-01-22T16:59:44.065836",
     "status": "completed"
    },
    "tags": []
   },
   "outputs": [],
   "source": []
  }
 ],
 "metadata": {
  "kaggle": {
   "accelerator": "none",
   "dataSources": [
    {
     "datasetId": 6460075,
     "sourceId": 10422618,
     "sourceType": "datasetVersion"
    }
   ],
   "dockerImageVersionId": 30839,
   "isGpuEnabled": false,
   "isInternetEnabled": true,
   "language": "python",
   "sourceType": "notebook"
  },
  "kernelspec": {
   "display_name": "Python 3",
   "language": "python",
   "name": "python3"
  },
  "language_info": {
   "codemirror_mode": {
    "name": "ipython",
    "version": 3
   },
   "file_extension": ".py",
   "mimetype": "text/x-python",
   "name": "python",
   "nbconvert_exporter": "python",
   "pygments_lexer": "ipython3",
   "version": "3.10.12"
  },
  "papermill": {
   "default_parameters": {},
   "duration": 105.890524,
   "end_time": "2025-01-22T16:59:45.001452",
   "environment_variables": {},
   "exception": null,
   "input_path": "__notebook__.ipynb",
   "output_path": "__notebook__.ipynb",
   "parameters": {},
   "start_time": "2025-01-22T16:57:59.110928",
   "version": "2.6.0"
  }
 },
 "nbformat": 4,
 "nbformat_minor": 5
}
